{
 "cells": [
  {
   "cell_type": "code",
   "execution_count": 19,
   "id": "95479dc7",
   "metadata": {},
   "outputs": [
    {
     "data": {
      "application/vnd.jupyter.widget-view+json": {
       "model_id": "53c6ab6111864d6c8c36984c3a0f8f5f",
       "version_major": 2,
       "version_minor": 0
      },
      "text/plain": [
       "HBox(children=(NGLWidget(), VBox(children=(Dropdown(description='Show', options=('All', 'O', 'H'), value='All'…"
      ]
     },
     "execution_count": 19,
     "metadata": {},
     "output_type": "execute_result"
    }
   ],
   "source": [
    "from ase.build import molecule\n",
    "from ase.visualize import view\n",
    "h2o = molecule(\"H2O\")\n",
    "view(h2o, viewer=\"ngl\")"
   ]
  },
  {
   "cell_type": "code",
   "execution_count": 20,
   "id": "b021f818",
   "metadata": {},
   "outputs": [
    {
     "data": {
      "application/vnd.jupyter.widget-view+json": {
       "model_id": "11a1557f8c314f73ad10708c9799d862",
       "version_major": 2,
       "version_minor": 0
      },
      "text/plain": [
       "HBox(children=(NGLWidget(), VBox(children=(Dropdown(description='Show', options=('All', 'Cu'), value='All'), D…"
      ]
     },
     "execution_count": 20,
     "metadata": {},
     "output_type": "execute_result"
    }
   ],
   "source": [
    "from ase.build import bulk\n",
    "cu_prim = bulk(\"Cu\", \"fcc\", a=3.6)\n",
    "view(cu_prim,viewer=\"ngl\")"
   ]
  },
  {
   "cell_type": "code",
   "execution_count": 21,
   "id": "9c5dbb9e",
   "metadata": {},
   "outputs": [
    {
     "data": {
      "application/vnd.jupyter.widget-view+json": {
       "model_id": "23f185d6696a4fdf92f5e574828dc062",
       "version_major": 2,
       "version_minor": 0
      },
      "text/plain": [
       "HBox(children=(NGLWidget(), VBox(children=(Dropdown(description='Show', options=('All', 'Cu'), value='All'), D…"
      ]
     },
     "execution_count": 21,
     "metadata": {},
     "output_type": "execute_result"
    }
   ],
   "source": [
    "cu_cube = bulk(\"Cu\", \"fcc\", a=3.6, cubic=True)\n",
    "view(cu_cube,viewer=\"ngl\")"
   ]
  },
  {
   "cell_type": "code",
   "execution_count": 22,
   "id": "8e70e5e7",
   "metadata": {},
   "outputs": [
    {
     "data": {
      "application/vnd.jupyter.widget-view+json": {
       "model_id": "63ddcac0fefd4abcb86b554c25b87409",
       "version_major": 2,
       "version_minor": 0
      },
      "text/plain": [
       "HBox(children=(NGLWidget(), VBox(children=(Dropdown(description='Show', options=('All', 'Cu'), value='All'), D…"
      ]
     },
     "execution_count": 22,
     "metadata": {},
     "output_type": "execute_result"
    }
   ],
   "source": [
    "cu_super = cu_cube*(4,4,4)\n",
    "view(cu_super,viewer=\"ngl\")"
   ]
  },
  {
   "cell_type": "code",
   "execution_count": null,
   "id": "b39e75a4",
   "metadata": {},
   "outputs": [],
   "source": []
  },
  {
   "cell_type": "code",
   "execution_count": 23,
   "id": "b268f425",
   "metadata": {},
   "outputs": [
    {
     "data": {
      "application/vnd.jupyter.widget-view+json": {
       "model_id": "f7e8a399ae9048eaa48f890cba4ff216",
       "version_major": 2,
       "version_minor": 0
      },
      "text/plain": [
       "HBox(children=(NGLWidget(), VBox(children=(Dropdown(description='Show', options=('All', 'C'), value='All'), Dr…"
      ]
     },
     "execution_count": 23,
     "metadata": {},
     "output_type": "execute_result"
    }
   ],
   "source": [
    "from ase.build import nanotube\n",
    "cnt1 = nanotube(6, 0, length=4)\n",
    "view(cnt1,viewer=\"ngl\")"
   ]
  },
  {
   "cell_type": "code",
   "execution_count": 24,
   "id": "c8c56804",
   "metadata": {},
   "outputs": [
    {
     "data": {
      "application/vnd.jupyter.widget-view+json": {
       "model_id": "7a55d54ee5864606bb459292ebe55307",
       "version_major": 2,
       "version_minor": 0
      },
      "text/plain": [
       "HBox(children=(NGLWidget(), VBox(children=(Dropdown(description='Show', options=('All', 'Cu'), value='All'), D…"
      ]
     },
     "execution_count": 24,
     "metadata": {},
     "output_type": "execute_result"
    }
   ],
   "source": [
    "from ase.lattice.cubic import FaceCenteredCubic\n",
    "atoms = FaceCenteredCubic(\n",
    "directions=[[1, 0, 0], [0, 1, 0], [0, 0, 1]],\n",
    "symbol=\"Cu\",\n",
    "size=(4, 4, 4),\n",
    "pbc=True)\n",
    "\n",
    "view(atoms,viewer=\"ngl\")"
   ]
  },
  {
   "cell_type": "code",
   "execution_count": 25,
   "id": "9516290b",
   "metadata": {},
   "outputs": [
    {
     "data": {
      "application/vnd.jupyter.widget-view+json": {
       "model_id": "adc10dba88dd415bb944865f958d5be0",
       "version_major": 2,
       "version_minor": 0
      },
      "text/plain": [
       "HBox(children=(NGLWidget(), VBox(children=(Dropdown(description='Show', options=('All', 'Cl', 'K', 'Os'), valu…"
      ]
     },
     "execution_count": 25,
     "metadata": {},
     "output_type": "execute_result"
    }
   ],
   "source": [
    "from ase.io import read\n",
    "mpstruct = read(\"K2OsCl6.cif\")\n",
    "view(mpstruct,viewer=\"ngl\")"
   ]
  },
  {
   "cell_type": "code",
   "execution_count": 26,
   "id": "094e532b",
   "metadata": {},
   "outputs": [
    {
     "data": {
      "application/vnd.jupyter.widget-view+json": {
       "model_id": "550139f0eb8a4cd2a3f77bc4a9ebf1b3",
       "version_major": 2,
       "version_minor": 0
      },
      "text/plain": [
       "HBox(children=(NGLWidget(), VBox(children=(Dropdown(description='Show', options=('All', 'Cl', 'K', 'Os'), valu…"
      ]
     },
     "execution_count": 26,
     "metadata": {},
     "output_type": "execute_result"
    }
   ],
   "source": [
    "from ase.io import read\n",
    "mpstruct = read(\"K2OsCl6.cif\")\n",
    "super = mpstruct*(5,5,5)\n",
    "view(super,viewer=\"ngl\")"
   ]
  },
  {
   "cell_type": "code",
   "execution_count": 27,
   "id": "320f945e",
   "metadata": {},
   "outputs": [
    {
     "data": {
      "application/vnd.jupyter.widget-view+json": {
       "model_id": "76870e1c3b3145b1878937260c8ffbc3",
       "version_major": 2,
       "version_minor": 0
      },
      "text/plain": [
       "NGLWidget(max_frame=50)"
      ]
     },
     "metadata": {},
     "output_type": "display_data"
    }
   ],
   "source": [
    "from ase.io import read\n",
    "import nglview as nv\n",
    "\n",
    "# Load all frames from trajectory as a list\n",
    "traj = read(\"cu.traj\", index=\":\")  # list of Atoms objects\n",
    "\n",
    "# Create the NGLView trajectory widget\n",
    "view = nv.show_asetraj(traj)\n",
    "\n",
    "# Enable automatic animation (optional)\n",
    "view.animate = True\n",
    "\n",
    "# Display the widget\n",
    "view\n"
   ]
  }
 ],
 "metadata": {
  "kernelspec": {
   "display_name": ".venv",
   "language": "python",
   "name": "python3"
  },
  "language_info": {
   "codemirror_mode": {
    "name": "ipython",
    "version": 3
   },
   "file_extension": ".py",
   "mimetype": "text/x-python",
   "name": "python",
   "nbconvert_exporter": "python",
   "pygments_lexer": "ipython3",
   "version": "3.12.3"
  }
 },
 "nbformat": 4,
 "nbformat_minor": 5
}
